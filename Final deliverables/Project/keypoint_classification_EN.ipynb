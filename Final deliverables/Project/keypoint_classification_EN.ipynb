{
 "cells": [
  {
   "cell_type": "code",
   "execution_count": 1,
   "metadata": {
    "id": "igMyGnjE9hEp"
   },
   "outputs": [],
   "source": [
    "import csv\n",
    "\n",
    "import numpy as np\n",
    "import tensorflow as tf\n",
    "from sklearn.model_selection import train_test_split\n",
    "\n",
    "RANDOM_SEED = 42"
   ]
  },
  {
   "cell_type": "markdown",
   "metadata": {
    "id": "t2HDvhIu9hEr"
   },
   "source": [
    "# Specify each path"
   ]
  },
  {
   "cell_type": "code",
   "execution_count": 2,
   "metadata": {
    "id": "9NvZP2Zn9hEy"
   },
   "outputs": [],
   "source": [
    "dataset = 'model/keypoint_classifier/keypoint.csv'\n",
    "model_save_path = 'model/keypoint_classifier/keypoint_classifier.hdf5'\n",
    "tflite_save_path = 'model/keypoint_classifier/keypoint_classifier.tflite'"
   ]
  },
  {
   "cell_type": "markdown",
   "metadata": {
    "id": "s5oMH7x19hEz"
   },
   "source": [
    "# Set number of classes"
   ]
  },
  {
   "cell_type": "code",
   "execution_count": 3,
   "metadata": {
    "id": "du4kodXL9hEz"
   },
   "outputs": [],
   "source": [
    "NUM_CLASSES = 2"
   ]
  },
  {
   "cell_type": "markdown",
   "metadata": {
    "id": "XjnL0uso9hEz"
   },
   "source": [
    "# Dataset reading"
   ]
  },
  {
   "cell_type": "code",
   "execution_count": 4,
   "metadata": {
    "id": "QT5ZqtEz9hE0"
   },
   "outputs": [],
   "source": [
    "X_dataset = np.loadtxt(dataset, delimiter=',', dtype='float32', usecols=list(range(1, (21 * 2) + 1)))"
   ]
  },
  {
   "cell_type": "code",
   "execution_count": 5,
   "metadata": {
    "id": "QmoKFsp49hE0"
   },
   "outputs": [],
   "source": [
    "y_dataset = np.loadtxt(dataset, delimiter=',', dtype='int32', usecols=(0))"
   ]
  },
  {
   "cell_type": "code",
   "execution_count": 6,
   "metadata": {
    "id": "xQU7JTZ_9hE0"
   },
   "outputs": [],
   "source": [
    "X_train, X_test, y_train, y_test = train_test_split(X_dataset, y_dataset, train_size=0.75, random_state=RANDOM_SEED)"
   ]
  },
  {
   "cell_type": "markdown",
   "metadata": {
    "id": "mxK_lETT9hE0"
   },
   "source": [
    "# Model building"
   ]
  },
  {
   "cell_type": "code",
   "execution_count": 7,
   "metadata": {
    "id": "vHBmUf1t9hE1"
   },
   "outputs": [],
   "source": [
    "model = tf.keras.models.Sequential([\n",
    "    tf.keras.layers.Input((21 * 2, )),\n",
    "    tf.keras.layers.Dropout(0.2),\n",
    "    tf.keras.layers.Dense(20, activation='relu'),\n",
    "    tf.keras.layers.Dropout(0.4),\n",
    "    tf.keras.layers.Dense(10, activation='relu'),\n",
    "    tf.keras.layers.Dense(NUM_CLASSES, activation='softmax')\n",
    "])"
   ]
  },
  {
   "cell_type": "code",
   "execution_count": 8,
   "metadata": {
    "colab": {
     "base_uri": "https://localhost:8080/"
    },
    "id": "ypqky9tc9hE1",
    "outputId": "5db082bb-30e3-4110-bf63-a1ee777ecd46"
   },
   "outputs": [
    {
     "name": "stdout",
     "output_type": "stream",
     "text": [
      "Model: \"sequential\"\n",
      "_________________________________________________________________\n",
      " Layer (type)                Output Shape              Param #   \n",
      "=================================================================\n",
      " dropout (Dropout)           (None, 42)                0         \n",
      "                                                                 \n",
      " dense (Dense)               (None, 20)                860       \n",
      "                                                                 \n",
      " dropout_1 (Dropout)         (None, 20)                0         \n",
      "                                                                 \n",
      " dense_1 (Dense)             (None, 10)                210       \n",
      "                                                                 \n",
      " dense_2 (Dense)             (None, 2)                 22        \n",
      "                                                                 \n",
      "=================================================================\n",
      "Total params: 1,092\n",
      "Trainable params: 1,092\n",
      "Non-trainable params: 0\n",
      "_________________________________________________________________\n"
     ]
    }
   ],
   "source": [
    "model.summary()  # tf.keras.utils.plot_model(model, show_shapes=True)"
   ]
  },
  {
   "cell_type": "code",
   "execution_count": 9,
   "metadata": {
    "id": "MbMjOflQ9hE1"
   },
   "outputs": [],
   "source": [
    "# Model checkpoint callback\n",
    "cp_callback = tf.keras.callbacks.ModelCheckpoint(\n",
    "    model_save_path, verbose=1, save_weights_only=False)\n",
    "# Callback for early stopping\n",
    "es_callback = tf.keras.callbacks.EarlyStopping(patience=20, verbose=1)"
   ]
  },
  {
   "cell_type": "code",
   "execution_count": 10,
   "metadata": {
    "id": "c3Dac0M_9hE2"
   },
   "outputs": [],
   "source": [
    "# Model compilation\n",
    "model.compile(\n",
    "    optimizer='adam',\n",
    "    loss='sparse_categorical_crossentropy',\n",
    "    metrics=['accuracy']\n",
    ")"
   ]
  },
  {
   "cell_type": "markdown",
   "metadata": {
    "id": "7XI0j1Iu9hE2"
   },
   "source": [
    "# Model training"
   ]
  },
  {
   "cell_type": "code",
   "execution_count": 11,
   "metadata": {
    "colab": {
     "base_uri": "https://localhost:8080/"
    },
    "id": "WirBl-JE9hE3",
    "outputId": "71b30ca2-8294-4d9d-8aa2-800d90d399de",
    "scrolled": true
   },
   "outputs": [
    {
     "name": "stdout",
     "output_type": "stream",
     "text": [
      "Epoch 1/1000\n",
      "7/9 [======================>.......] - ETA: 0s - loss: 0.6935 - accuracy: 0.5435\n",
      "Epoch 1: saving model to model/keypoint_classifier\\keypoint_classifier.hdf5\n",
      "9/9 [==============================] - 4s 124ms/step - loss: 0.6963 - accuracy: 0.5360 - val_loss: 0.6041 - val_accuracy: 0.6945\n",
      "Epoch 2/1000\n",
      "1/9 [==>...........................] - ETA: 0s - loss: 0.6725 - accuracy: 0.5547\n",
      "Epoch 2: saving model to model/keypoint_classifier\\keypoint_classifier.hdf5\n",
      "9/9 [==============================] - 0s 39ms/step - loss: 0.6532 - accuracy: 0.5985 - val_loss: 0.5613 - val_accuracy: 0.9568\n",
      "Epoch 3/1000\n",
      "1/9 [==>...........................] - ETA: 0s - loss: 0.6444 - accuracy: 0.6328\n",
      "Epoch 3: saving model to model/keypoint_classifier\\keypoint_classifier.hdf5\n",
      "9/9 [==============================] - 0s 21ms/step - loss: 0.6358 - accuracy: 0.6292 - val_loss: 0.5443 - val_accuracy: 0.9856\n",
      "Epoch 4/1000\n",
      "7/9 [======================>.......] - ETA: 0s - loss: 0.6396 - accuracy: 0.6194\n",
      "Epoch 4: saving model to model/keypoint_classifier\\keypoint_classifier.hdf5\n",
      "9/9 [==============================] - 0s 26ms/step - loss: 0.6354 - accuracy: 0.6302 - val_loss: 0.5268 - val_accuracy: 0.9741\n",
      "Epoch 5/1000\n",
      "8/9 [=========================>....] - ETA: 0s - loss: 0.5956 - accuracy: 0.6846\n",
      "Epoch 5: saving model to model/keypoint_classifier\\keypoint_classifier.hdf5\n",
      "9/9 [==============================] - 0s 23ms/step - loss: 0.5968 - accuracy: 0.6849 - val_loss: 0.5090 - val_accuracy: 0.9712\n",
      "Epoch 6/1000\n",
      "9/9 [==============================] - ETA: 0s - loss: 0.6029 - accuracy: 0.6801\n",
      "Epoch 6: saving model to model/keypoint_classifier\\keypoint_classifier.hdf5\n",
      "9/9 [==============================] - 0s 21ms/step - loss: 0.6029 - accuracy: 0.6801 - val_loss: 0.4959 - val_accuracy: 0.9568\n",
      "Epoch 7/1000\n",
      "1/9 [==>...........................] - ETA: 0s - loss: 0.5699 - accuracy: 0.7031\n",
      "Epoch 7: saving model to model/keypoint_classifier\\keypoint_classifier.hdf5\n",
      "9/9 [==============================] - 0s 21ms/step - loss: 0.5941 - accuracy: 0.6878 - val_loss: 0.4731 - val_accuracy: 0.9769\n",
      "Epoch 8/1000\n",
      "1/9 [==>...........................] - ETA: 0s - loss: 0.5753 - accuracy: 0.6875\n",
      "Epoch 8: saving model to model/keypoint_classifier\\keypoint_classifier.hdf5\n",
      "9/9 [==============================] - 0s 19ms/step - loss: 0.5746 - accuracy: 0.7118 - val_loss: 0.4543 - val_accuracy: 0.9769\n",
      "Epoch 9/1000\n",
      "1/9 [==>...........................] - ETA: 0s - loss: 0.5780 - accuracy: 0.7031\n",
      "Epoch 9: saving model to model/keypoint_classifier\\keypoint_classifier.hdf5\n",
      "9/9 [==============================] - 0s 19ms/step - loss: 0.5714 - accuracy: 0.7128 - val_loss: 0.4361 - val_accuracy: 0.9769\n",
      "Epoch 10/1000\n",
      "1/9 [==>...........................] - ETA: 0s - loss: 0.5201 - accuracy: 0.8125\n",
      "Epoch 10: saving model to model/keypoint_classifier\\keypoint_classifier.hdf5\n",
      "9/9 [==============================] - 0s 19ms/step - loss: 0.5424 - accuracy: 0.7550 - val_loss: 0.4160 - val_accuracy: 0.9798\n",
      "Epoch 11/1000\n",
      "1/9 [==>...........................] - ETA: 0s - loss: 0.5215 - accuracy: 0.7500\n",
      "Epoch 11: saving model to model/keypoint_classifier\\keypoint_classifier.hdf5\n",
      "9/9 [==============================] - 0s 25ms/step - loss: 0.5466 - accuracy: 0.7349 - val_loss: 0.3993 - val_accuracy: 0.9798\n",
      "Epoch 12/1000\n",
      "1/9 [==>...........................] - ETA: 0s - loss: 0.6052 - accuracy: 0.6484\n",
      "Epoch 12: saving model to model/keypoint_classifier\\keypoint_classifier.hdf5\n",
      "9/9 [==============================] - 0s 19ms/step - loss: 0.5313 - accuracy: 0.7608 - val_loss: 0.3763 - val_accuracy: 0.9798\n",
      "Epoch 13/1000\n",
      "1/9 [==>...........................] - ETA: 0s - loss: 0.4850 - accuracy: 0.7422\n",
      "Epoch 13: saving model to model/keypoint_classifier\\keypoint_classifier.hdf5\n",
      "9/9 [==============================] - 0s 27ms/step - loss: 0.5190 - accuracy: 0.7685 - val_loss: 0.3529 - val_accuracy: 0.9827\n",
      "Epoch 14/1000\n",
      "1/9 [==>...........................] - ETA: 0s - loss: 0.4985 - accuracy: 0.8203\n",
      "Epoch 14: saving model to model/keypoint_classifier\\keypoint_classifier.hdf5\n",
      "9/9 [==============================] - 0s 35ms/step - loss: 0.5004 - accuracy: 0.7781 - val_loss: 0.3328 - val_accuracy: 0.9827\n",
      "Epoch 15/1000\n",
      "9/9 [==============================] - ETA: 0s - loss: 0.4934 - accuracy: 0.7858\n",
      "Epoch 15: saving model to model/keypoint_classifier\\keypoint_classifier.hdf5\n",
      "9/9 [==============================] - 0s 28ms/step - loss: 0.4934 - accuracy: 0.7858 - val_loss: 0.3141 - val_accuracy: 0.9827\n",
      "Epoch 16/1000\n",
      "1/9 [==>...........................] - ETA: 0s - loss: 0.4675 - accuracy: 0.7734\n",
      "Epoch 16: saving model to model/keypoint_classifier\\keypoint_classifier.hdf5\n",
      "9/9 [==============================] - 0s 20ms/step - loss: 0.4825 - accuracy: 0.7877 - val_loss: 0.3034 - val_accuracy: 0.9827\n",
      "Epoch 17/1000\n",
      "1/9 [==>...........................] - ETA: 0s - loss: 0.4645 - accuracy: 0.7578\n",
      "Epoch 17: saving model to model/keypoint_classifier\\keypoint_classifier.hdf5\n",
      "9/9 [==============================] - 0s 25ms/step - loss: 0.4968 - accuracy: 0.7781 - val_loss: 0.2923 - val_accuracy: 0.9827\n",
      "Epoch 18/1000\n",
      "1/9 [==>...........................] - ETA: 0s - loss: 0.5284 - accuracy: 0.7500\n",
      "Epoch 18: saving model to model/keypoint_classifier\\keypoint_classifier.hdf5\n",
      "9/9 [==============================] - 0s 19ms/step - loss: 0.4691 - accuracy: 0.7973 - val_loss: 0.2804 - val_accuracy: 0.9827\n",
      "Epoch 19/1000\n",
      "1/9 [==>...........................] - ETA: 0s - loss: 0.3969 - accuracy: 0.8203\n",
      "Epoch 19: saving model to model/keypoint_classifier\\keypoint_classifier.hdf5\n",
      "9/9 [==============================] - 0s 19ms/step - loss: 0.4425 - accuracy: 0.7867 - val_loss: 0.2651 - val_accuracy: 0.9827\n",
      "Epoch 20/1000\n",
      "1/9 [==>...........................] - ETA: 0s - loss: 0.4683 - accuracy: 0.7734\n",
      "Epoch 20: saving model to model/keypoint_classifier\\keypoint_classifier.hdf5\n",
      "9/9 [==============================] - 0s 19ms/step - loss: 0.4387 - accuracy: 0.8012 - val_loss: 0.2509 - val_accuracy: 0.9827\n",
      "Epoch 21/1000\n",
      "1/9 [==>...........................] - ETA: 0s - loss: 0.4164 - accuracy: 0.7891\n",
      "Epoch 21: saving model to model/keypoint_classifier\\keypoint_classifier.hdf5\n",
      "9/9 [==============================] - 0s 20ms/step - loss: 0.4208 - accuracy: 0.7992 - val_loss: 0.2388 - val_accuracy: 0.9827\n",
      "Epoch 22/1000\n",
      "1/9 [==>...........................] - ETA: 0s - loss: 0.3931 - accuracy: 0.8281\n",
      "Epoch 22: saving model to model/keypoint_classifier\\keypoint_classifier.hdf5\n",
      "9/9 [==============================] - 0s 19ms/step - loss: 0.4345 - accuracy: 0.8002 - val_loss: 0.2253 - val_accuracy: 0.9827\n",
      "Epoch 23/1000\n",
      "1/9 [==>...........................] - ETA: 0s - loss: 0.4106 - accuracy: 0.7969\n",
      "Epoch 23: saving model to model/keypoint_classifier\\keypoint_classifier.hdf5\n",
      "9/9 [==============================] - 0s 18ms/step - loss: 0.3993 - accuracy: 0.8338 - val_loss: 0.2194 - val_accuracy: 0.9798\n",
      "Epoch 24/1000\n",
      "1/9 [==>...........................] - ETA: 0s - loss: 0.3465 - accuracy: 0.8828\n",
      "Epoch 24: saving model to model/keypoint_classifier\\keypoint_classifier.hdf5\n",
      "9/9 [==============================] - 0s 20ms/step - loss: 0.4113 - accuracy: 0.8309 - val_loss: 0.2018 - val_accuracy: 0.9827\n",
      "Epoch 25/1000\n",
      "9/9 [==============================] - ETA: 0s - loss: 0.4115 - accuracy: 0.8194\n",
      "Epoch 25: saving model to model/keypoint_classifier\\keypoint_classifier.hdf5\n",
      "9/9 [==============================] - 0s 24ms/step - loss: 0.4115 - accuracy: 0.8194 - val_loss: 0.1915 - val_accuracy: 0.9827\n",
      "Epoch 26/1000\n",
      "1/9 [==>...........................] - ETA: 0s - loss: 0.3769 - accuracy: 0.8438\n",
      "Epoch 26: saving model to model/keypoint_classifier\\keypoint_classifier.hdf5\n",
      "9/9 [==============================] - 0s 19ms/step - loss: 0.4164 - accuracy: 0.8232 - val_loss: 0.1843 - val_accuracy: 0.9827\n",
      "Epoch 27/1000\n",
      "1/9 [==>...........................] - ETA: 0s - loss: 0.3629 - accuracy: 0.8516\n",
      "Epoch 27: saving model to model/keypoint_classifier\\keypoint_classifier.hdf5\n",
      "9/9 [==============================] - 0s 19ms/step - loss: 0.4028 - accuracy: 0.8184 - val_loss: 0.1770 - val_accuracy: 0.9827\n",
      "Epoch 28/1000\n",
      "1/9 [==>...........................] - ETA: 0s - loss: 0.4198 - accuracy: 0.7812\n",
      "Epoch 28: saving model to model/keypoint_classifier\\keypoint_classifier.hdf5\n"
     ]
    },
    {
     "name": "stdout",
     "output_type": "stream",
     "text": [
      "9/9 [==============================] - 0s 20ms/step - loss: 0.3903 - accuracy: 0.8338 - val_loss: 0.1766 - val_accuracy: 0.9885\n",
      "Epoch 29/1000\n",
      "1/9 [==>...........................] - ETA: 0s - loss: 0.4337 - accuracy: 0.8047\n",
      "Epoch 29: saving model to model/keypoint_classifier\\keypoint_classifier.hdf5\n",
      "9/9 [==============================] - 0s 18ms/step - loss: 0.3925 - accuracy: 0.8357 - val_loss: 0.1709 - val_accuracy: 0.9885\n",
      "Epoch 30/1000\n",
      "1/9 [==>...........................] - ETA: 0s - loss: 0.3737 - accuracy: 0.8672\n",
      "Epoch 30: saving model to model/keypoint_classifier\\keypoint_classifier.hdf5\n",
      "9/9 [==============================] - 0s 23ms/step - loss: 0.4214 - accuracy: 0.8108 - val_loss: 0.1692 - val_accuracy: 0.9856\n",
      "Epoch 31/1000\n",
      "1/9 [==>...........................] - ETA: 0s - loss: 0.3989 - accuracy: 0.8125\n",
      "Epoch 31: saving model to model/keypoint_classifier\\keypoint_classifier.hdf5\n",
      "9/9 [==============================] - 0s 25ms/step - loss: 0.3948 - accuracy: 0.8232 - val_loss: 0.1655 - val_accuracy: 0.9856\n",
      "Epoch 32/1000\n",
      "1/9 [==>...........................] - ETA: 0s - loss: 0.3319 - accuracy: 0.8594\n",
      "Epoch 32: saving model to model/keypoint_classifier\\keypoint_classifier.hdf5\n",
      "9/9 [==============================] - 0s 19ms/step - loss: 0.3918 - accuracy: 0.8348 - val_loss: 0.1647 - val_accuracy: 0.9827\n",
      "Epoch 33/1000\n",
      "1/9 [==>...........................] - ETA: 0s - loss: 0.3688 - accuracy: 0.8203\n",
      "Epoch 33: saving model to model/keypoint_classifier\\keypoint_classifier.hdf5\n",
      "9/9 [==============================] - 0s 19ms/step - loss: 0.3729 - accuracy: 0.8425 - val_loss: 0.1625 - val_accuracy: 0.9827\n",
      "Epoch 34/1000\n",
      "1/9 [==>...........................] - ETA: 0s - loss: 0.4084 - accuracy: 0.8125\n",
      "Epoch 34: saving model to model/keypoint_classifier\\keypoint_classifier.hdf5\n",
      "9/9 [==============================] - 0s 19ms/step - loss: 0.3773 - accuracy: 0.8434 - val_loss: 0.1579 - val_accuracy: 0.9827\n",
      "Epoch 35/1000\n",
      "1/9 [==>...........................] - ETA: 0s - loss: 0.3148 - accuracy: 0.8594\n",
      "Epoch 35: saving model to model/keypoint_classifier\\keypoint_classifier.hdf5\n",
      "9/9 [==============================] - 0s 20ms/step - loss: 0.3620 - accuracy: 0.8329 - val_loss: 0.1527 - val_accuracy: 0.9885\n",
      "Epoch 36/1000\n",
      "1/9 [==>...........................] - ETA: 0s - loss: 0.3307 - accuracy: 0.8984\n",
      "Epoch 36: saving model to model/keypoint_classifier\\keypoint_classifier.hdf5\n",
      "9/9 [==============================] - 0s 26ms/step - loss: 0.3645 - accuracy: 0.8434 - val_loss: 0.1463 - val_accuracy: 0.9827\n",
      "Epoch 37/1000\n",
      "1/9 [==>...........................] - ETA: 0s - loss: 0.3496 - accuracy: 0.8516\n",
      "Epoch 37: saving model to model/keypoint_classifier\\keypoint_classifier.hdf5\n",
      "9/9 [==============================] - 0s 34ms/step - loss: 0.3542 - accuracy: 0.8463 - val_loss: 0.1405 - val_accuracy: 0.9827\n",
      "Epoch 38/1000\n",
      "1/9 [==>...........................] - ETA: 0s - loss: 0.3529 - accuracy: 0.8594\n",
      "Epoch 38: saving model to model/keypoint_classifier\\keypoint_classifier.hdf5\n",
      "9/9 [==============================] - 0s 21ms/step - loss: 0.3594 - accuracy: 0.8530 - val_loss: 0.1396 - val_accuracy: 0.9827\n",
      "Epoch 39/1000\n",
      "9/9 [==============================] - ETA: 0s - loss: 0.3438 - accuracy: 0.8444\n",
      "Epoch 39: saving model to model/keypoint_classifier\\keypoint_classifier.hdf5\n",
      "9/9 [==============================] - 0s 22ms/step - loss: 0.3438 - accuracy: 0.8444 - val_loss: 0.1406 - val_accuracy: 0.9827\n",
      "Epoch 40/1000\n",
      "9/9 [==============================] - ETA: 0s - loss: 0.3529 - accuracy: 0.8482\n",
      "Epoch 40: saving model to model/keypoint_classifier\\keypoint_classifier.hdf5\n",
      "9/9 [==============================] - 0s 21ms/step - loss: 0.3529 - accuracy: 0.8482 - val_loss: 0.1370 - val_accuracy: 0.9827\n",
      "Epoch 41/1000\n",
      "1/9 [==>...........................] - ETA: 0s - loss: 0.3954 - accuracy: 0.8359\n",
      "Epoch 41: saving model to model/keypoint_classifier\\keypoint_classifier.hdf5\n",
      "9/9 [==============================] - 0s 19ms/step - loss: 0.3453 - accuracy: 0.8626 - val_loss: 0.1375 - val_accuracy: 0.9856\n",
      "Epoch 42/1000\n",
      "1/9 [==>...........................] - ETA: 0s - loss: 0.3341 - accuracy: 0.8594\n",
      "Epoch 42: saving model to model/keypoint_classifier\\keypoint_classifier.hdf5\n",
      "9/9 [==============================] - 0s 18ms/step - loss: 0.3443 - accuracy: 0.8703 - val_loss: 0.1333 - val_accuracy: 0.9885\n",
      "Epoch 43/1000\n",
      "1/9 [==>...........................] - ETA: 0s - loss: 0.2983 - accuracy: 0.9219\n",
      "Epoch 43: saving model to model/keypoint_classifier\\keypoint_classifier.hdf5\n",
      "9/9 [==============================] - 0s 19ms/step - loss: 0.3434 - accuracy: 0.8770 - val_loss: 0.1329 - val_accuracy: 0.9856\n",
      "Epoch 44/1000\n",
      "1/9 [==>...........................] - ETA: 0s - loss: 0.3741 - accuracy: 0.8438\n",
      "Epoch 44: saving model to model/keypoint_classifier\\keypoint_classifier.hdf5\n",
      "9/9 [==============================] - 0s 23ms/step - loss: 0.3240 - accuracy: 0.8790 - val_loss: 0.1276 - val_accuracy: 0.9856\n",
      "Epoch 45/1000\n",
      "1/9 [==>...........................] - ETA: 0s - loss: 0.3864 - accuracy: 0.8281\n",
      "Epoch 45: saving model to model/keypoint_classifier\\keypoint_classifier.hdf5\n",
      "9/9 [==============================] - 0s 27ms/step - loss: 0.3582 - accuracy: 0.8453 - val_loss: 0.1254 - val_accuracy: 0.9885\n",
      "Epoch 46/1000\n",
      "1/9 [==>...........................] - ETA: 0s - loss: 0.3928 - accuracy: 0.7969\n",
      "Epoch 46: saving model to model/keypoint_classifier\\keypoint_classifier.hdf5\n",
      "9/9 [==============================] - 0s 19ms/step - loss: 0.3584 - accuracy: 0.8444 - val_loss: 0.1260 - val_accuracy: 0.9885\n",
      "Epoch 47/1000\n",
      "1/9 [==>...........................] - ETA: 0s - loss: 0.2828 - accuracy: 0.9219\n",
      "Epoch 47: saving model to model/keypoint_classifier\\keypoint_classifier.hdf5\n",
      "9/9 [==============================] - 0s 19ms/step - loss: 0.2943 - accuracy: 0.8857 - val_loss: 0.1268 - val_accuracy: 0.9885\n",
      "Epoch 48/1000\n",
      "1/9 [==>...........................] - ETA: 0s - loss: 0.3395 - accuracy: 0.8828\n",
      "Epoch 48: saving model to model/keypoint_classifier\\keypoint_classifier.hdf5\n",
      "9/9 [==============================] - 0s 16ms/step - loss: 0.3277 - accuracy: 0.8761 - val_loss: 0.1272 - val_accuracy: 0.9885\n",
      "Epoch 49/1000\n",
      "1/9 [==>...........................] - ETA: 0s - loss: 0.2429 - accuracy: 0.9219\n",
      "Epoch 49: saving model to model/keypoint_classifier\\keypoint_classifier.hdf5\n",
      "9/9 [==============================] - 0s 17ms/step - loss: 0.3099 - accuracy: 0.8703 - val_loss: 0.1224 - val_accuracy: 0.9885\n",
      "Epoch 50/1000\n",
      "1/9 [==>...........................] - ETA: 0s - loss: 0.3698 - accuracy: 0.8750\n",
      "Epoch 50: saving model to model/keypoint_classifier\\keypoint_classifier.hdf5\n",
      "9/9 [==============================] - 0s 16ms/step - loss: 0.3379 - accuracy: 0.8588 - val_loss: 0.1184 - val_accuracy: 0.9885\n",
      "Epoch 51/1000\n",
      "1/9 [==>...........................] - ETA: 0s - loss: 0.2883 - accuracy: 0.8984\n",
      "Epoch 51: saving model to model/keypoint_classifier\\keypoint_classifier.hdf5\n",
      "9/9 [==============================] - 0s 21ms/step - loss: 0.2975 - accuracy: 0.8876 - val_loss: 0.1159 - val_accuracy: 0.9885\n",
      "Epoch 52/1000\n",
      "1/9 [==>...........................] - ETA: 0s - loss: 0.3428 - accuracy: 0.8516\n",
      "Epoch 52: saving model to model/keypoint_classifier\\keypoint_classifier.hdf5\n",
      "9/9 [==============================] - 0s 18ms/step - loss: 0.3180 - accuracy: 0.8703 - val_loss: 0.1124 - val_accuracy: 0.9914\n",
      "Epoch 53/1000\n",
      "1/9 [==>...........................] - ETA: 0s - loss: 0.2456 - accuracy: 0.9062\n",
      "Epoch 53: saving model to model/keypoint_classifier\\keypoint_classifier.hdf5\n",
      "9/9 [==============================] - 0s 19ms/step - loss: 0.3203 - accuracy: 0.8761 - val_loss: 0.1185 - val_accuracy: 0.9856\n",
      "Epoch 54/1000\n",
      "9/9 [==============================] - ETA: 0s - loss: 0.3217 - accuracy: 0.8722\n",
      "Epoch 54: saving model to model/keypoint_classifier\\keypoint_classifier.hdf5\n",
      "9/9 [==============================] - 0s 22ms/step - loss: 0.3217 - accuracy: 0.8722 - val_loss: 0.1217 - val_accuracy: 0.9856\n",
      "Epoch 55/1000\n",
      "1/9 [==>...........................] - ETA: 0s - loss: 0.2998 - accuracy: 0.8906\n",
      "Epoch 55: saving model to model/keypoint_classifier\\keypoint_classifier.hdf5\n",
      "9/9 [==============================] - 0s 19ms/step - loss: 0.3121 - accuracy: 0.8713 - val_loss: 0.1165 - val_accuracy: 0.9856\n"
     ]
    },
    {
     "name": "stdout",
     "output_type": "stream",
     "text": [
      "Epoch 56/1000\n",
      "1/9 [==>...........................] - ETA: 0s - loss: 0.2766 - accuracy: 0.9219\n",
      "Epoch 56: saving model to model/keypoint_classifier\\keypoint_classifier.hdf5\n",
      "9/9 [==============================] - 0s 19ms/step - loss: 0.3087 - accuracy: 0.8751 - val_loss: 0.1082 - val_accuracy: 0.9914\n",
      "Epoch 57/1000\n",
      "1/9 [==>...........................] - ETA: 0s - loss: 0.3303 - accuracy: 0.8594\n",
      "Epoch 57: saving model to model/keypoint_classifier\\keypoint_classifier.hdf5\n",
      "9/9 [==============================] - 0s 23ms/step - loss: 0.3057 - accuracy: 0.8722 - val_loss: 0.1066 - val_accuracy: 0.9914\n",
      "Epoch 58/1000\n",
      "1/9 [==>...........................] - ETA: 0s - loss: 0.3098 - accuracy: 0.8750\n",
      "Epoch 58: saving model to model/keypoint_classifier\\keypoint_classifier.hdf5\n",
      "9/9 [==============================] - 0s 19ms/step - loss: 0.2885 - accuracy: 0.8780 - val_loss: 0.1023 - val_accuracy: 0.9914\n",
      "Epoch 59/1000\n",
      "1/9 [==>...........................] - ETA: 0s - loss: 0.3489 - accuracy: 0.8672\n",
      "Epoch 59: saving model to model/keypoint_classifier\\keypoint_classifier.hdf5\n",
      "9/9 [==============================] - 0s 23ms/step - loss: 0.3225 - accuracy: 0.8674 - val_loss: 0.1057 - val_accuracy: 0.9914\n",
      "Epoch 60/1000\n",
      "1/9 [==>...........................] - ETA: 0s - loss: 0.3062 - accuracy: 0.8828\n",
      "Epoch 60: saving model to model/keypoint_classifier\\keypoint_classifier.hdf5\n",
      "9/9 [==============================] - 0s 19ms/step - loss: 0.3090 - accuracy: 0.8866 - val_loss: 0.1040 - val_accuracy: 0.9914\n",
      "Epoch 61/1000\n",
      "8/9 [=========================>....] - ETA: 0s - loss: 0.2962 - accuracy: 0.8760\n",
      "Epoch 61: saving model to model/keypoint_classifier\\keypoint_classifier.hdf5\n",
      "9/9 [==============================] - 0s 22ms/step - loss: 0.2970 - accuracy: 0.8761 - val_loss: 0.1023 - val_accuracy: 0.9914\n",
      "Epoch 62/1000\n",
      "1/9 [==>...........................] - ETA: 0s - loss: 0.2886 - accuracy: 0.8750\n",
      "Epoch 62: saving model to model/keypoint_classifier\\keypoint_classifier.hdf5\n",
      "9/9 [==============================] - 0s 19ms/step - loss: 0.2906 - accuracy: 0.8780 - val_loss: 0.1019 - val_accuracy: 0.9914\n",
      "Epoch 63/1000\n",
      "1/9 [==>...........................] - ETA: 0s - loss: 0.2505 - accuracy: 0.9062\n",
      "Epoch 63: saving model to model/keypoint_classifier\\keypoint_classifier.hdf5\n",
      "9/9 [==============================] - 0s 19ms/step - loss: 0.2901 - accuracy: 0.8934 - val_loss: 0.1011 - val_accuracy: 0.9914\n",
      "Epoch 64/1000\n",
      "1/9 [==>...........................] - ETA: 0s - loss: 0.2986 - accuracy: 0.8984\n",
      "Epoch 64: saving model to model/keypoint_classifier\\keypoint_classifier.hdf5\n",
      "9/9 [==============================] - 0s 19ms/step - loss: 0.3085 - accuracy: 0.8790 - val_loss: 0.1022 - val_accuracy: 0.9914\n",
      "Epoch 65/1000\n",
      "1/9 [==>...........................] - ETA: 0s - loss: 0.3476 - accuracy: 0.8438\n",
      "Epoch 65: saving model to model/keypoint_classifier\\keypoint_classifier.hdf5\n",
      "9/9 [==============================] - 0s 18ms/step - loss: 0.2988 - accuracy: 0.8751 - val_loss: 0.1037 - val_accuracy: 0.9914\n",
      "Epoch 66/1000\n",
      "1/9 [==>...........................] - ETA: 0s - loss: 0.2431 - accuracy: 0.9219\n",
      "Epoch 66: saving model to model/keypoint_classifier\\keypoint_classifier.hdf5\n",
      "9/9 [==============================] - 0s 20ms/step - loss: 0.2887 - accuracy: 0.8905 - val_loss: 0.1011 - val_accuracy: 0.9914\n",
      "Epoch 67/1000\n",
      "9/9 [==============================] - ETA: 0s - loss: 0.3104 - accuracy: 0.8886\n",
      "Epoch 67: saving model to model/keypoint_classifier\\keypoint_classifier.hdf5\n",
      "9/9 [==============================] - 0s 22ms/step - loss: 0.3104 - accuracy: 0.8886 - val_loss: 0.0973 - val_accuracy: 0.9914\n",
      "Epoch 68/1000\n",
      "1/9 [==>...........................] - ETA: 0s - loss: 0.2574 - accuracy: 0.9141\n",
      "Epoch 68: saving model to model/keypoint_classifier\\keypoint_classifier.hdf5\n",
      "9/9 [==============================] - 0s 22ms/step - loss: 0.2841 - accuracy: 0.8828 - val_loss: 0.0931 - val_accuracy: 0.9914\n",
      "Epoch 69/1000\n",
      "1/9 [==>...........................] - ETA: 0s - loss: 0.3640 - accuracy: 0.8594\n",
      "Epoch 69: saving model to model/keypoint_classifier\\keypoint_classifier.hdf5\n",
      "9/9 [==============================] - 0s 20ms/step - loss: 0.2897 - accuracy: 0.8780 - val_loss: 0.0957 - val_accuracy: 0.9942\n",
      "Epoch 70/1000\n",
      "1/9 [==>...........................] - ETA: 0s - loss: 0.2594 - accuracy: 0.8906\n",
      "Epoch 70: saving model to model/keypoint_classifier\\keypoint_classifier.hdf5\n",
      "9/9 [==============================] - 0s 21ms/step - loss: 0.2566 - accuracy: 0.9020 - val_loss: 0.0938 - val_accuracy: 0.9914\n",
      "Epoch 71/1000\n",
      "9/9 [==============================] - ETA: 0s - loss: 0.2428 - accuracy: 0.9116\n",
      "Epoch 71: saving model to model/keypoint_classifier\\keypoint_classifier.hdf5\n",
      "9/9 [==============================] - 0s 21ms/step - loss: 0.2428 - accuracy: 0.9116 - val_loss: 0.0857 - val_accuracy: 0.9914\n",
      "Epoch 72/1000\n",
      "1/9 [==>...........................] - ETA: 0s - loss: 0.2662 - accuracy: 0.8828\n",
      "Epoch 72: saving model to model/keypoint_classifier\\keypoint_classifier.hdf5\n",
      "9/9 [==============================] - 0s 19ms/step - loss: 0.2580 - accuracy: 0.9001 - val_loss: 0.0815 - val_accuracy: 0.9942\n",
      "Epoch 73/1000\n",
      "1/9 [==>...........................] - ETA: 0s - loss: 0.3377 - accuracy: 0.8516\n",
      "Epoch 73: saving model to model/keypoint_classifier\\keypoint_classifier.hdf5\n",
      "9/9 [==============================] - 0s 22ms/step - loss: 0.2589 - accuracy: 0.8905 - val_loss: 0.0831 - val_accuracy: 0.9942\n",
      "Epoch 74/1000\n",
      "1/9 [==>...........................] - ETA: 0s - loss: 0.2699 - accuracy: 0.8828\n",
      "Epoch 74: saving model to model/keypoint_classifier\\keypoint_classifier.hdf5\n",
      "9/9 [==============================] - 0s 19ms/step - loss: 0.2668 - accuracy: 0.8963 - val_loss: 0.0867 - val_accuracy: 0.9942\n",
      "Epoch 75/1000\n",
      "1/9 [==>...........................] - ETA: 0s - loss: 0.2350 - accuracy: 0.9141\n",
      "Epoch 75: saving model to model/keypoint_classifier\\keypoint_classifier.hdf5\n",
      "9/9 [==============================] - 0s 19ms/step - loss: 0.2739 - accuracy: 0.9001 - val_loss: 0.0868 - val_accuracy: 0.9914\n",
      "Epoch 76/1000\n",
      "1/9 [==>...........................] - ETA: 0s - loss: 0.2112 - accuracy: 0.9062\n",
      "Epoch 76: saving model to model/keypoint_classifier\\keypoint_classifier.hdf5\n",
      "9/9 [==============================] - 0s 25ms/step - loss: 0.2636 - accuracy: 0.8924 - val_loss: 0.0868 - val_accuracy: 0.9914\n",
      "Epoch 77/1000\n",
      "1/9 [==>...........................] - ETA: 0s - loss: 0.2581 - accuracy: 0.9219\n",
      "Epoch 77: saving model to model/keypoint_classifier\\keypoint_classifier.hdf5\n",
      "9/9 [==============================] - 0s 19ms/step - loss: 0.2544 - accuracy: 0.9068 - val_loss: 0.0878 - val_accuracy: 0.9914\n",
      "Epoch 78/1000\n",
      "1/9 [==>...........................] - ETA: 0s - loss: 0.2356 - accuracy: 0.9219\n",
      "Epoch 78: saving model to model/keypoint_classifier\\keypoint_classifier.hdf5\n",
      "9/9 [==============================] - 0s 19ms/step - loss: 0.2756 - accuracy: 0.8915 - val_loss: 0.0887 - val_accuracy: 0.9914\n",
      "Epoch 79/1000\n",
      "1/9 [==>...........................] - ETA: 0s - loss: 0.2012 - accuracy: 0.9453\n",
      "Epoch 79: saving model to model/keypoint_classifier\\keypoint_classifier.hdf5\n",
      "9/9 [==============================] - 0s 22ms/step - loss: 0.2751 - accuracy: 0.8934 - val_loss: 0.0905 - val_accuracy: 0.9914\n",
      "Epoch 80/1000\n",
      "1/9 [==>...........................] - ETA: 0s - loss: 0.2085 - accuracy: 0.8984\n",
      "Epoch 80: saving model to model/keypoint_classifier\\keypoint_classifier.hdf5\n",
      "9/9 [==============================] - 0s 20ms/step - loss: 0.2510 - accuracy: 0.9107 - val_loss: 0.0920 - val_accuracy: 0.9914\n",
      "Epoch 81/1000\n",
      "1/9 [==>...........................] - ETA: 0s - loss: 0.2861 - accuracy: 0.8984\n",
      "Epoch 81: saving model to model/keypoint_classifier\\keypoint_classifier.hdf5\n",
      "9/9 [==============================] - 0s 19ms/step - loss: 0.2541 - accuracy: 0.9020 - val_loss: 0.0929 - val_accuracy: 0.9914\n",
      "Epoch 82/1000\n",
      "9/9 [==============================] - ETA: 0s - loss: 0.2475 - accuracy: 0.9059\n",
      "Epoch 82: saving model to model/keypoint_classifier\\keypoint_classifier.hdf5\n",
      "9/9 [==============================] - 0s 21ms/step - loss: 0.2475 - accuracy: 0.9059 - val_loss: 0.0940 - val_accuracy: 0.9914\n",
      "Epoch 83/1000\n"
     ]
    },
    {
     "name": "stdout",
     "output_type": "stream",
     "text": [
      "1/9 [==>...........................] - ETA: 0s - loss: 0.2358 - accuracy: 0.9062\n",
      "Epoch 83: saving model to model/keypoint_classifier\\keypoint_classifier.hdf5\n",
      "9/9 [==============================] - 0s 22ms/step - loss: 0.2255 - accuracy: 0.9145 - val_loss: 0.0902 - val_accuracy: 0.9914\n",
      "Epoch 84/1000\n",
      "1/9 [==>...........................] - ETA: 0s - loss: 0.2723 - accuracy: 0.8984\n",
      "Epoch 84: saving model to model/keypoint_classifier\\keypoint_classifier.hdf5\n",
      "9/9 [==============================] - 0s 22ms/step - loss: 0.2456 - accuracy: 0.9097 - val_loss: 0.0877 - val_accuracy: 0.9942\n",
      "Epoch 85/1000\n",
      "1/9 [==>...........................] - ETA: 0s - loss: 0.2052 - accuracy: 0.9219\n",
      "Epoch 85: saving model to model/keypoint_classifier\\keypoint_classifier.hdf5\n",
      "9/9 [==============================] - 0s 19ms/step - loss: 0.2239 - accuracy: 0.9212 - val_loss: 0.0804 - val_accuracy: 0.9942\n",
      "Epoch 86/1000\n",
      "1/9 [==>...........................] - ETA: 0s - loss: 0.2120 - accuracy: 0.9141\n",
      "Epoch 86: saving model to model/keypoint_classifier\\keypoint_classifier.hdf5\n",
      "9/9 [==============================] - 0s 19ms/step - loss: 0.2546 - accuracy: 0.9097 - val_loss: 0.0801 - val_accuracy: 0.9942\n",
      "Epoch 87/1000\n",
      "1/9 [==>...........................] - ETA: 0s - loss: 0.2061 - accuracy: 0.9062\n",
      "Epoch 87: saving model to model/keypoint_classifier\\keypoint_classifier.hdf5\n",
      "9/9 [==============================] - 0s 19ms/step - loss: 0.2374 - accuracy: 0.9078 - val_loss: 0.0830 - val_accuracy: 0.9942\n",
      "Epoch 88/1000\n",
      "1/9 [==>...........................] - ETA: 0s - loss: 0.2762 - accuracy: 0.8750\n",
      "Epoch 88: saving model to model/keypoint_classifier\\keypoint_classifier.hdf5\n",
      "9/9 [==============================] - 0s 22ms/step - loss: 0.2167 - accuracy: 0.9260 - val_loss: 0.0827 - val_accuracy: 0.9942\n",
      "Epoch 89/1000\n",
      "1/9 [==>...........................] - ETA: 0s - loss: 0.1727 - accuracy: 0.9453\n",
      "Epoch 89: saving model to model/keypoint_classifier\\keypoint_classifier.hdf5\n",
      "9/9 [==============================] - 0s 22ms/step - loss: 0.2173 - accuracy: 0.9270 - val_loss: 0.0774 - val_accuracy: 0.9942\n",
      "Epoch 90/1000\n",
      "6/9 [===================>..........] - ETA: 0s - loss: 0.2541 - accuracy: 0.9049\n",
      "Epoch 90: saving model to model/keypoint_classifier\\keypoint_classifier.hdf5\n",
      "9/9 [==============================] - 1s 63ms/step - loss: 0.2378 - accuracy: 0.9145 - val_loss: 0.0776 - val_accuracy: 0.9942\n",
      "Epoch 91/1000\n",
      "1/9 [==>...........................] - ETA: 0s - loss: 0.2140 - accuracy: 0.9141\n",
      "Epoch 91: saving model to model/keypoint_classifier\\keypoint_classifier.hdf5\n",
      "9/9 [==============================] - 0s 18ms/step - loss: 0.2236 - accuracy: 0.9289 - val_loss: 0.0786 - val_accuracy: 0.9942\n",
      "Epoch 92/1000\n",
      "1/9 [==>...........................] - ETA: 0s - loss: 0.1755 - accuracy: 0.9375\n",
      "Epoch 92: saving model to model/keypoint_classifier\\keypoint_classifier.hdf5\n",
      "9/9 [==============================] - 0s 19ms/step - loss: 0.2266 - accuracy: 0.9232 - val_loss: 0.0743 - val_accuracy: 0.9942\n",
      "Epoch 93/1000\n",
      "1/9 [==>...........................] - ETA: 0s - loss: 0.2152 - accuracy: 0.9219\n",
      "Epoch 93: saving model to model/keypoint_classifier\\keypoint_classifier.hdf5\n",
      "9/9 [==============================] - 0s 19ms/step - loss: 0.2023 - accuracy: 0.9299 - val_loss: 0.0711 - val_accuracy: 0.9942\n",
      "Epoch 94/1000\n",
      "1/9 [==>...........................] - ETA: 0s - loss: 0.2329 - accuracy: 0.9219\n",
      "Epoch 94: saving model to model/keypoint_classifier\\keypoint_classifier.hdf5\n",
      "9/9 [==============================] - 0s 22ms/step - loss: 0.2252 - accuracy: 0.9212 - val_loss: 0.0743 - val_accuracy: 0.9942\n",
      "Epoch 95/1000\n",
      "1/9 [==>...........................] - ETA: 0s - loss: 0.2067 - accuracy: 0.9531\n",
      "Epoch 95: saving model to model/keypoint_classifier\\keypoint_classifier.hdf5\n",
      "9/9 [==============================] - 0s 37ms/step - loss: 0.2247 - accuracy: 0.9308 - val_loss: 0.0743 - val_accuracy: 0.9942\n",
      "Epoch 96/1000\n",
      "1/9 [==>...........................] - ETA: 0s - loss: 0.1936 - accuracy: 0.9375\n",
      "Epoch 96: saving model to model/keypoint_classifier\\keypoint_classifier.hdf5\n",
      "9/9 [==============================] - 0s 41ms/step - loss: 0.2402 - accuracy: 0.9164 - val_loss: 0.0814 - val_accuracy: 0.9914\n",
      "Epoch 97/1000\n",
      "1/9 [==>...........................] - ETA: 0s - loss: 0.1933 - accuracy: 0.9375\n",
      "Epoch 97: saving model to model/keypoint_classifier\\keypoint_classifier.hdf5\n",
      "9/9 [==============================] - 0s 23ms/step - loss: 0.2011 - accuracy: 0.9395 - val_loss: 0.0779 - val_accuracy: 0.9942\n",
      "Epoch 98/1000\n",
      "1/9 [==>...........................] - ETA: 0s - loss: 0.3082 - accuracy: 0.8828\n",
      "Epoch 98: saving model to model/keypoint_classifier\\keypoint_classifier.hdf5\n",
      "9/9 [==============================] - 0s 19ms/step - loss: 0.2233 - accuracy: 0.9232 - val_loss: 0.0783 - val_accuracy: 0.9942\n",
      "Epoch 99/1000\n",
      "1/9 [==>...........................] - ETA: 0s - loss: 0.1882 - accuracy: 0.9375\n",
      "Epoch 99: saving model to model/keypoint_classifier\\keypoint_classifier.hdf5\n",
      "9/9 [==============================] - 0s 19ms/step - loss: 0.2095 - accuracy: 0.9366 - val_loss: 0.0804 - val_accuracy: 0.9942\n",
      "Epoch 100/1000\n",
      "1/9 [==>...........................] - ETA: 0s - loss: 0.1352 - accuracy: 0.9688\n",
      "Epoch 100: saving model to model/keypoint_classifier\\keypoint_classifier.hdf5\n",
      "9/9 [==============================] - 0s 20ms/step - loss: 0.1869 - accuracy: 0.9385 - val_loss: 0.0746 - val_accuracy: 0.9942\n",
      "Epoch 101/1000\n",
      "9/9 [==============================] - ETA: 0s - loss: 0.1863 - accuracy: 0.9481\n",
      "Epoch 101: saving model to model/keypoint_classifier\\keypoint_classifier.hdf5\n",
      "9/9 [==============================] - 0s 37ms/step - loss: 0.1863 - accuracy: 0.9481 - val_loss: 0.0677 - val_accuracy: 0.9942\n",
      "Epoch 102/1000\n",
      "1/9 [==>...........................] - ETA: 0s - loss: 0.2436 - accuracy: 0.9141\n",
      "Epoch 102: saving model to model/keypoint_classifier\\keypoint_classifier.hdf5\n",
      "9/9 [==============================] - 0s 30ms/step - loss: 0.1770 - accuracy: 0.9404 - val_loss: 0.0650 - val_accuracy: 0.9942\n",
      "Epoch 103/1000\n",
      "8/9 [=========================>....] - ETA: 0s - loss: 0.1898 - accuracy: 0.9414\n",
      "Epoch 103: saving model to model/keypoint_classifier\\keypoint_classifier.hdf5\n",
      "9/9 [==============================] - 0s 22ms/step - loss: 0.1907 - accuracy: 0.9404 - val_loss: 0.0673 - val_accuracy: 0.9942\n",
      "Epoch 104/1000\n",
      "1/9 [==>...........................] - ETA: 0s - loss: 0.2445 - accuracy: 0.9219\n",
      "Epoch 104: saving model to model/keypoint_classifier\\keypoint_classifier.hdf5\n",
      "9/9 [==============================] - 0s 18ms/step - loss: 0.1958 - accuracy: 0.9395 - val_loss: 0.0678 - val_accuracy: 0.9942\n",
      "Epoch 105/1000\n",
      "1/9 [==>...........................] - ETA: 0s - loss: 0.1541 - accuracy: 0.9531\n",
      "Epoch 105: saving model to model/keypoint_classifier\\keypoint_classifier.hdf5\n",
      "9/9 [==============================] - 0s 19ms/step - loss: 0.1846 - accuracy: 0.9356 - val_loss: 0.0651 - val_accuracy: 0.9942\n",
      "Epoch 106/1000\n",
      "1/9 [==>...........................] - ETA: 0s - loss: 0.1798 - accuracy: 0.9688\n",
      "Epoch 106: saving model to model/keypoint_classifier\\keypoint_classifier.hdf5\n",
      "9/9 [==============================] - 0s 19ms/step - loss: 0.1978 - accuracy: 0.9356 - val_loss: 0.0667 - val_accuracy: 0.9942\n",
      "Epoch 107/1000\n",
      "1/9 [==>...........................] - ETA: 0s - loss: 0.1858 - accuracy: 0.9297\n",
      "Epoch 107: saving model to model/keypoint_classifier\\keypoint_classifier.hdf5\n",
      "9/9 [==============================] - 0s 23ms/step - loss: 0.1980 - accuracy: 0.9270 - val_loss: 0.0670 - val_accuracy: 0.9942\n",
      "Epoch 108/1000\n",
      "8/9 [=========================>....] - ETA: 0s - loss: 0.1750 - accuracy: 0.9404\n",
      "Epoch 108: saving model to model/keypoint_classifier\\keypoint_classifier.hdf5\n",
      "9/9 [==============================] - 0s 29ms/step - loss: 0.1747 - accuracy: 0.9414 - val_loss: 0.0659 - val_accuracy: 0.9942\n",
      "Epoch 109/1000\n",
      "8/9 [=========================>....] - ETA: 0s - loss: 0.1811 - accuracy: 0.9434\n",
      "Epoch 109: saving model to model/keypoint_classifier\\keypoint_classifier.hdf5\n",
      "9/9 [==============================] - 0s 22ms/step - loss: 0.1814 - accuracy: 0.9433 - val_loss: 0.0617 - val_accuracy: 0.9942\n",
      "Epoch 110/1000\n"
     ]
    },
    {
     "name": "stdout",
     "output_type": "stream",
     "text": [
      "1/9 [==>...........................] - ETA: 0s - loss: 0.1799 - accuracy: 0.9219\n",
      "Epoch 110: saving model to model/keypoint_classifier\\keypoint_classifier.hdf5\n",
      "9/9 [==============================] - 0s 22ms/step - loss: 0.1883 - accuracy: 0.9376 - val_loss: 0.0627 - val_accuracy: 0.9942\n",
      "Epoch 111/1000\n",
      "1/9 [==>...........................] - ETA: 0s - loss: 0.1985 - accuracy: 0.9375\n",
      "Epoch 111: saving model to model/keypoint_classifier\\keypoint_classifier.hdf5\n",
      "9/9 [==============================] - 0s 18ms/step - loss: 0.1722 - accuracy: 0.9452 - val_loss: 0.0612 - val_accuracy: 0.9942\n",
      "Epoch 112/1000\n",
      "1/9 [==>...........................] - ETA: 0s - loss: 0.1784 - accuracy: 0.9375\n",
      "Epoch 112: saving model to model/keypoint_classifier\\keypoint_classifier.hdf5\n",
      "9/9 [==============================] - 0s 19ms/step - loss: 0.1810 - accuracy: 0.9385 - val_loss: 0.0607 - val_accuracy: 0.9942\n",
      "Epoch 113/1000\n",
      "1/9 [==>...........................] - ETA: 0s - loss: 0.2466 - accuracy: 0.9219\n",
      "Epoch 113: saving model to model/keypoint_classifier\\keypoint_classifier.hdf5\n",
      "9/9 [==============================] - 0s 21ms/step - loss: 0.1765 - accuracy: 0.9424 - val_loss: 0.0637 - val_accuracy: 0.9942\n",
      "Epoch 114/1000\n",
      "1/9 [==>...........................] - ETA: 0s - loss: 0.1623 - accuracy: 0.9375\n",
      "Epoch 114: saving model to model/keypoint_classifier\\keypoint_classifier.hdf5\n",
      "9/9 [==============================] - 0s 19ms/step - loss: 0.1953 - accuracy: 0.9366 - val_loss: 0.0675 - val_accuracy: 0.9942\n",
      "Epoch 115/1000\n",
      "1/9 [==>...........................] - ETA: 0s - loss: 0.1455 - accuracy: 0.9609\n",
      "Epoch 115: saving model to model/keypoint_classifier\\keypoint_classifier.hdf5\n",
      "9/9 [==============================] - 0s 19ms/step - loss: 0.1778 - accuracy: 0.9308 - val_loss: 0.0669 - val_accuracy: 0.9942\n",
      "Epoch 116/1000\n",
      "1/9 [==>...........................] - ETA: 0s - loss: 0.1467 - accuracy: 0.9297\n",
      "Epoch 116: saving model to model/keypoint_classifier\\keypoint_classifier.hdf5\n",
      "9/9 [==============================] - 0s 19ms/step - loss: 0.1823 - accuracy: 0.9366 - val_loss: 0.0641 - val_accuracy: 0.9942\n",
      "Epoch 117/1000\n",
      "1/9 [==>...........................] - ETA: 0s - loss: 0.1129 - accuracy: 0.9844\n",
      "Epoch 117: saving model to model/keypoint_classifier\\keypoint_classifier.hdf5\n",
      "9/9 [==============================] - 0s 23ms/step - loss: 0.1647 - accuracy: 0.9472 - val_loss: 0.0656 - val_accuracy: 0.9942\n",
      "Epoch 118/1000\n",
      "1/9 [==>...........................] - ETA: 0s - loss: 0.1844 - accuracy: 0.9297\n",
      "Epoch 118: saving model to model/keypoint_classifier\\keypoint_classifier.hdf5\n",
      "9/9 [==============================] - 0s 17ms/step - loss: 0.1687 - accuracy: 0.9385 - val_loss: 0.0604 - val_accuracy: 0.9942\n",
      "Epoch 119/1000\n",
      "1/9 [==>...........................] - ETA: 0s - loss: 0.1905 - accuracy: 0.9375\n",
      "Epoch 119: saving model to model/keypoint_classifier\\keypoint_classifier.hdf5\n",
      "9/9 [==============================] - 0s 19ms/step - loss: 0.1715 - accuracy: 0.9452 - val_loss: 0.0587 - val_accuracy: 0.9942\n",
      "Epoch 120/1000\n",
      "1/9 [==>...........................] - ETA: 0s - loss: 0.1331 - accuracy: 0.9766\n",
      "Epoch 120: saving model to model/keypoint_classifier\\keypoint_classifier.hdf5\n",
      "9/9 [==============================] - 0s 17ms/step - loss: 0.1927 - accuracy: 0.9318 - val_loss: 0.0582 - val_accuracy: 0.9942\n",
      "Epoch 121/1000\n",
      "1/9 [==>...........................] - ETA: 0s - loss: 0.2077 - accuracy: 0.9375\n",
      "Epoch 121: saving model to model/keypoint_classifier\\keypoint_classifier.hdf5\n",
      "9/9 [==============================] - 0s 15ms/step - loss: 0.2035 - accuracy: 0.9347 - val_loss: 0.0653 - val_accuracy: 0.9942\n",
      "Epoch 122/1000\n",
      "1/9 [==>...........................] - ETA: 0s - loss: 0.1445 - accuracy: 0.9531\n",
      "Epoch 122: saving model to model/keypoint_classifier\\keypoint_classifier.hdf5\n",
      "9/9 [==============================] - 0s 16ms/step - loss: 0.1537 - accuracy: 0.9549 - val_loss: 0.0678 - val_accuracy: 0.9942\n",
      "Epoch 123/1000\n",
      "1/9 [==>...........................] - ETA: 0s - loss: 0.1419 - accuracy: 0.9375\n",
      "Epoch 123: saving model to model/keypoint_classifier\\keypoint_classifier.hdf5\n",
      "9/9 [==============================] - 0s 22ms/step - loss: 0.1463 - accuracy: 0.9452 - val_loss: 0.0636 - val_accuracy: 0.9942\n",
      "Epoch 124/1000\n",
      "1/9 [==>...........................] - ETA: 0s - loss: 0.1382 - accuracy: 0.9609\n",
      "Epoch 124: saving model to model/keypoint_classifier\\keypoint_classifier.hdf5\n",
      "9/9 [==============================] - 0s 21ms/step - loss: 0.1639 - accuracy: 0.9452 - val_loss: 0.0593 - val_accuracy: 0.9942\n",
      "Epoch 125/1000\n",
      "1/9 [==>...........................] - ETA: 0s - loss: 0.1355 - accuracy: 0.9531\n",
      "Epoch 125: saving model to model/keypoint_classifier\\keypoint_classifier.hdf5\n",
      "9/9 [==============================] - 0s 19ms/step - loss: 0.1955 - accuracy: 0.9337 - val_loss: 0.0585 - val_accuracy: 0.9942\n",
      "Epoch 126/1000\n",
      "1/9 [==>...........................] - ETA: 0s - loss: 0.2164 - accuracy: 0.9453\n",
      "Epoch 126: saving model to model/keypoint_classifier\\keypoint_classifier.hdf5\n",
      "9/9 [==============================] - 0s 19ms/step - loss: 0.1846 - accuracy: 0.9520 - val_loss: 0.0598 - val_accuracy: 0.9942\n",
      "Epoch 127/1000\n",
      "1/9 [==>...........................] - ETA: 0s - loss: 0.2849 - accuracy: 0.8984\n",
      "Epoch 127: saving model to model/keypoint_classifier\\keypoint_classifier.hdf5\n",
      "9/9 [==============================] - 0s 19ms/step - loss: 0.1874 - accuracy: 0.9443 - val_loss: 0.0683 - val_accuracy: 0.9942\n",
      "Epoch 128/1000\n",
      "1/9 [==>...........................] - ETA: 0s - loss: 0.1523 - accuracy: 0.9453\n",
      "Epoch 128: saving model to model/keypoint_classifier\\keypoint_classifier.hdf5\n",
      "9/9 [==============================] - 0s 20ms/step - loss: 0.1801 - accuracy: 0.9491 - val_loss: 0.0776 - val_accuracy: 0.9914\n",
      "Epoch 129/1000\n",
      "1/9 [==>...........................] - ETA: 0s - loss: 0.2240 - accuracy: 0.9375\n",
      "Epoch 129: saving model to model/keypoint_classifier\\keypoint_classifier.hdf5\n",
      "9/9 [==============================] - 0s 19ms/step - loss: 0.1741 - accuracy: 0.9500 - val_loss: 0.0769 - val_accuracy: 0.9942\n",
      "Epoch 130/1000\n",
      "1/9 [==>...........................] - ETA: 0s - loss: 0.2244 - accuracy: 0.9297\n",
      "Epoch 130: saving model to model/keypoint_classifier\\keypoint_classifier.hdf5\n",
      "9/9 [==============================] - 0s 19ms/step - loss: 0.1786 - accuracy: 0.9491 - val_loss: 0.0732 - val_accuracy: 0.9942\n",
      "Epoch 131/1000\n",
      "1/9 [==>...........................] - ETA: 0s - loss: 0.1685 - accuracy: 0.9531\n",
      "Epoch 131: saving model to model/keypoint_classifier\\keypoint_classifier.hdf5\n",
      "9/9 [==============================] - 0s 23ms/step - loss: 0.1691 - accuracy: 0.9462 - val_loss: 0.0703 - val_accuracy: 0.9942\n",
      "Epoch 132/1000\n",
      "1/9 [==>...........................] - ETA: 0s - loss: 0.1255 - accuracy: 0.9688\n",
      "Epoch 132: saving model to model/keypoint_classifier\\keypoint_classifier.hdf5\n",
      "9/9 [==============================] - 0s 20ms/step - loss: 0.1663 - accuracy: 0.9510 - val_loss: 0.0675 - val_accuracy: 0.9914\n",
      "Epoch 133/1000\n",
      "1/9 [==>...........................] - ETA: 0s - loss: 0.2146 - accuracy: 0.9453\n",
      "Epoch 133: saving model to model/keypoint_classifier\\keypoint_classifier.hdf5\n",
      "9/9 [==============================] - 0s 20ms/step - loss: 0.1703 - accuracy: 0.9462 - val_loss: 0.0693 - val_accuracy: 0.9914\n",
      "Epoch 134/1000\n",
      "1/9 [==>...........................] - ETA: 0s - loss: 0.1444 - accuracy: 0.9609\n",
      "Epoch 134: saving model to model/keypoint_classifier\\keypoint_classifier.hdf5\n",
      "9/9 [==============================] - 0s 22ms/step - loss: 0.1638 - accuracy: 0.9452 - val_loss: 0.0659 - val_accuracy: 0.9942\n",
      "Epoch 135/1000\n",
      "1/9 [==>...........................] - ETA: 0s - loss: 0.1676 - accuracy: 0.9453\n",
      "Epoch 135: saving model to model/keypoint_classifier\\keypoint_classifier.hdf5\n",
      "9/9 [==============================] - 0s 20ms/step - loss: 0.1676 - accuracy: 0.9500 - val_loss: 0.0650 - val_accuracy: 0.9942\n",
      "Epoch 136/1000\n",
      "1/9 [==>...........................] - ETA: 0s - loss: 0.1218 - accuracy: 0.9688\n",
      "Epoch 136: saving model to model/keypoint_classifier\\keypoint_classifier.hdf5\n",
      "9/9 [==============================] - 0s 19ms/step - loss: 0.1571 - accuracy: 0.9510 - val_loss: 0.0608 - val_accuracy: 0.9942\n",
      "Epoch 137/1000\n"
     ]
    },
    {
     "name": "stdout",
     "output_type": "stream",
     "text": [
      "1/9 [==>...........................] - ETA: 0s - loss: 0.0930 - accuracy: 0.9766\n",
      "Epoch 137: saving model to model/keypoint_classifier\\keypoint_classifier.hdf5\n",
      "9/9 [==============================] - 0s 26ms/step - loss: 0.1483 - accuracy: 0.9481 - val_loss: 0.0588 - val_accuracy: 0.9942\n",
      "Epoch 138/1000\n",
      "1/9 [==>...........................] - ETA: 0s - loss: 0.1796 - accuracy: 0.9297\n",
      "Epoch 138: saving model to model/keypoint_classifier\\keypoint_classifier.hdf5\n",
      "9/9 [==============================] - 0s 18ms/step - loss: 0.1713 - accuracy: 0.9433 - val_loss: 0.0752 - val_accuracy: 0.9914\n",
      "Epoch 139/1000\n",
      "1/9 [==>...........................] - ETA: 0s - loss: 0.0775 - accuracy: 0.9844\n",
      "Epoch 139: saving model to model/keypoint_classifier\\keypoint_classifier.hdf5\n",
      "9/9 [==============================] - 0s 18ms/step - loss: 0.1559 - accuracy: 0.9597 - val_loss: 0.0826 - val_accuracy: 0.9885\n",
      "Epoch 140/1000\n",
      "1/9 [==>...........................] - ETA: 0s - loss: 0.1126 - accuracy: 0.9688\n",
      "Epoch 140: saving model to model/keypoint_classifier\\keypoint_classifier.hdf5\n",
      "9/9 [==============================] - 0s 19ms/step - loss: 0.1374 - accuracy: 0.9587 - val_loss: 0.0708 - val_accuracy: 0.9885\n",
      "Epoch 140: early stopping\n"
     ]
    },
    {
     "data": {
      "text/plain": [
       "<keras.callbacks.History at 0x148301d7d00>"
      ]
     },
     "execution_count": 11,
     "metadata": {},
     "output_type": "execute_result"
    }
   ],
   "source": [
    "model.fit(\n",
    "    X_train,\n",
    "    y_train,\n",
    "    epochs=1000,\n",
    "    batch_size=128,\n",
    "    validation_data=(X_test, y_test),\n",
    "    callbacks=[cp_callback, es_callback]\n",
    ")"
   ]
  },
  {
   "cell_type": "code",
   "execution_count": 12,
   "metadata": {
    "colab": {
     "base_uri": "https://localhost:8080/"
    },
    "id": "pxvb2Y299hE3",
    "outputId": "59eb3185-2e37-4b9e-bc9d-ab1b8ac29b7f"
   },
   "outputs": [
    {
     "name": "stdout",
     "output_type": "stream",
     "text": [
      "3/3 [==============================] - 0s 7ms/step - loss: 0.0708 - accuracy: 0.9885\n"
     ]
    }
   ],
   "source": [
    "# Model evaluation\n",
    "val_loss, val_acc = model.evaluate(X_test, y_test, batch_size=128)"
   ]
  },
  {
   "cell_type": "code",
   "execution_count": 13,
   "metadata": {
    "id": "RBkmDeUW9hE4"
   },
   "outputs": [],
   "source": [
    "# Loading the saved model\n",
    "model = tf.keras.models.load_model(model_save_path)"
   ]
  },
  {
   "cell_type": "code",
   "execution_count": 14,
   "metadata": {
    "colab": {
     "base_uri": "https://localhost:8080/"
    },
    "id": "tFz9Tb0I9hE4",
    "outputId": "1c3b3528-54ae-4ee2-ab04-77429211cbef"
   },
   "outputs": [
    {
     "name": "stdout",
     "output_type": "stream",
     "text": [
      "1/1 [==============================] - 0s 172ms/step\n",
      "[0.9421419  0.05785818]\n",
      "0\n"
     ]
    }
   ],
   "source": [
    "# Inference test\n",
    "predict_result = model.predict(np.array([X_test[0]]))\n",
    "print(np.squeeze(predict_result))\n",
    "print(np.argmax(np.squeeze(predict_result)))"
   ]
  },
  {
   "cell_type": "markdown",
   "metadata": {
    "id": "S3U4yNWx9hE4"
   },
   "source": [
    "# Confusion matrix"
   ]
  },
  {
   "cell_type": "code",
   "execution_count": 15,
   "metadata": {
    "colab": {
     "base_uri": "https://localhost:8080/",
     "height": 582
    },
    "id": "AP1V6SCk9hE5",
    "outputId": "08e41a80-7a4a-4619-8125-ecc371368d19"
   },
   "outputs": [
    {
     "name": "stdout",
     "output_type": "stream",
     "text": [
      "11/11 [==============================] - 0s 10ms/step\n"
     ]
    },
    {
     "data": {
      "image/png": "[encoded data removed]",
      "text/plain": [
       "<Figure size 504x432 with 2 Axes>"
      ]
     },
     "metadata": {
      "needs_background": "light"
     },
     "output_type": "display_data"
    },
    {
     "name": "stdout",
     "output_type": "stream",
     "text": [
      "Classification Report\n",
      "              precision    recall  f1-score   support\n",
      "\n",
      "           0       0.98      0.99      0.99       174\n",
      "           1       0.99      0.98      0.99       173\n",
      "\n",
      "    accuracy                           0.99       347\n",
      "   macro avg       0.99      0.99      0.99       347\n",
      "weighted avg       0.99      0.99      0.99       347\n",
      "\n"
     ]
    }
   ],
   "source": [
    "import pandas as pd\n",
    "import seaborn as sns\n",
    "import matplotlib.pyplot as plt\n",
    "from sklearn.metrics import confusion_matrix, classification_report\n",
    "\n",
    "def print_confusion_matrix(y_true, y_pred, report=True):\n",
    "    labels = sorted(list(set(y_true)))\n",
    "    cmx_data = confusion_matrix(y_true, y_pred, labels=labels)\n",
    "    \n",
    "    df_cmx = pd.DataFrame(cmx_data, index=labels, columns=labels)\n",
    " \n",
    "    fig, ax = plt.subplots(figsize=(7, 6))\n",
    "    sns.heatmap(df_cmx, annot=True, fmt='g' ,square=False)\n",
    "    ax.set_ylim(len(set(y_true)), 0)\n",
    "    plt.show()\n",
    "    \n",
    "    if report:\n",
    "        print('Classification Report')\n",
    "        print(classification_report(y_test, y_pred))\n",
    "\n",
    "Y_pred = model.predict(X_test)\n",
    "y_pred = np.argmax(Y_pred, axis=1)\n",
    "\n",
    "print_confusion_matrix(y_test, y_pred)"
   ]
  },
  {
   "cell_type": "markdown",
   "metadata": {
    "id": "FNP6aqzc9hE5"
   },
   "source": [
    "# Convert to model for Tensorflow-Lite"
   ]
  },
  {
   "cell_type": "code",
   "execution_count": 16,
   "metadata": {
    "id": "ODjnYyld9hE6"
   },
   "outputs": [],
   "source": [
    "# Save as a model dedicated to inference\n",
    "model.save(model_save_path, include_optimizer=False)"
   ]
  },
  {
   "cell_type": "code",
   "execution_count": 17,
   "metadata": {
    "colab": {
     "base_uri": "https://localhost:8080/"
    },
    "id": "zRfuK8Y59hE6",
    "outputId": "a4ca585c-b5d5-4244-8291-8674063209bb"
   },
   "outputs": [
    {
     "name": "stdout",
     "output_type": "stream",
     "text": [
      "INFO:tensorflow:Assets written to: C:\\Users\\MANOJK~1\\AppData\\Local\\Temp\\tmpiqbfbj5z\\assets\n"
     ]
    },
    {
     "data": {
      "text/plain": [
       "6400"
      ]
     },
     "execution_count": 17,
     "metadata": {},
     "output_type": "execute_result"
    }
   ],
   "source": [
    "# Transform model (quantization)\n",
    "\n",
    "converter = tf.lite.TFLiteConverter.from_keras_model(model)\n",
    "converter.optimizations = [tf.lite.Optimize.DEFAULT]\n",
    "tflite_quantized_model = converter.convert()\n",
    "\n",
    "open(tflite_save_path, 'wb').write(tflite_quantized_model)"
   ]
  },
  {
   "cell_type": "markdown",
   "metadata": {
    "id": "CHBPBXdx9hE6"
   },
   "source": [
    "# Inference test"
   ]
  },
  {
   "cell_type": "code",
   "execution_count": 18,
   "metadata": {
    "id": "mGAzLocO9hE7"
   },
   "outputs": [],
   "source": [
    "interpreter = tf.lite.Interpreter(model_path=tflite_save_path)\n",
    "interpreter.allocate_tensors()"
   ]
  },
  {
   "cell_type": "code",
   "execution_count": 19,
   "metadata": {
    "id": "oQuDK8YS9hE7"
   },
   "outputs": [],
   "source": [
    "# Get I / O tensor\n",
    "input_details = interpreter.get_input_details()\n",
    "output_details = interpreter.get_output_details()"
   ]
  },
  {
   "cell_type": "code",
   "execution_count": 20,
   "metadata": {
    "id": "2_ixAf_l9hE7"
   },
   "outputs": [],
   "source": [
    "interpreter.set_tensor(input_details[0]['index'], np.array([X_test[0]]))"
   ]
  },
  {
   "cell_type": "code",
   "execution_count": 21,
   "metadata": {
    "colab": {
     "base_uri": "https://localhost:8080/"
    },
    "id": "s4FoAnuc9hE7",
    "outputId": "91f18257-8d8b-4ef3-c558-e9b5f94fabbf",
    "scrolled": true
   },
   "outputs": [
    {
     "name": "stdout",
     "output_type": "stream",
     "text": [
      "CPU times: total: 0 ns\n",
      "Wall time: 0 ns\n"
     ]
    }
   ],
   "source": [
    "%%time\n",
    "# Inference implementation\n",
    "interpreter.invoke()\n",
    "tflite_results = interpreter.get_tensor(output_details[0]['index'])"
   ]
  },
  {
   "cell_type": "code",
   "execution_count": 22,
   "metadata": {
    "colab": {
     "base_uri": "https://localhost:8080/"
    },
    "id": "vONjp19J9hE8",
    "outputId": "77205e24-fd00-42c4-f7b6-e06e527c2cba"
   },
   "outputs": [
    {
     "name": "stdout",
     "output_type": "stream",
     "text": [
      "[0.9421418 0.0578582]\n",
      "0\n"
     ]
    }
   ],
   "source": [
    "print(np.squeeze(tflite_results))\n",
    "print(np.argmax(np.squeeze(tflite_results)))"
   ]
  },
  {
   "cell_type": "code",
   "execution_count": null,
   "metadata": {},
   "outputs": [],
   "source": []
  },
  {
   "cell_type": "code",
   "execution_count": null,
   "metadata": {},
   "outputs": [],
   "source": []
  }
 ],
 "metadata": {
  "accelerator": "GPU",
  "colab": {
   "collapsed_sections": [],
   "name": "keypoint_classification_EN.ipynb",
   "provenance": [],
   "toc_visible": true
  },
  "kernelspec": {
   "display_name": "Python 3 (ipykernel)",
   "language": "python",
   "name": "python3"
  },
  "language_info": {
   "codemirror_mode": {
    "name": "ipython",
    "version": 3
   },
   "file_extension": ".py",
   "mimetype": "text/x-python",
   "name": "python",
   "nbconvert_exporter": "python",
   "pygments_lexer": "ipython3",
   "version": "3.9.7"
  }
 },
 "nbformat": 4,
 "nbformat_minor": 1
}
